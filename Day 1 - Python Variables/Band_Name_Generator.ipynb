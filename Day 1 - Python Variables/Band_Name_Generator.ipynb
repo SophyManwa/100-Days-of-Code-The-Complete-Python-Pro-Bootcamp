{
 "cells": [
  {
   "cell_type": "code",
   "execution_count": null,
   "metadata": {},
   "outputs": [],
   "source": [
    "# This is the first project of 100 Days of Code Python Bootcamp\n",
    "# Band Name Generator\n",
    "\n",
    "print(\"Welcome to the Band Name Generator.\")\n",
    "name = input(\"\\n What's the name of the city you grew up in? \")\n",
    "print(name)\n",
    "pet = input(\"\\n What's your pet's name?\")\n",
    "print(pet)\n",
    "print(\"Your band name could be \", name, pet)"
   ]
  }
 ],
 "metadata": {
  "kernelspec": {
   "display_name": "Python 3",
   "language": "python",
   "name": "python3"
  },
  "language_info": {
   "codemirror_mode": {
    "name": "ipython",
    "version": 3
   },
   "file_extension": ".py",
   "mimetype": "text/x-python",
   "name": "python",
   "nbconvert_exporter": "python",
   "pygments_lexer": "ipython3",
   "version": "3.10.7"
  }
 },
 "nbformat": 4,
 "nbformat_minor": 2
}
