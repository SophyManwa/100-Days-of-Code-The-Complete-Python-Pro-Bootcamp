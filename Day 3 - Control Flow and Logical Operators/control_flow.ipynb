{
 "cells": [
  {
   "cell_type": "code",
   "execution_count": 1,
   "metadata": {},
   "outputs": [
    {
     "name": "stdout",
     "output_type": "stream",
     "text": [
      "5 is an odd number\n"
     ]
    }
   ],
   "source": [
    "# Even number\n",
    "\n",
    "number = int(input(\"Enter a number? \"))\n",
    "\n",
    "output = number%2\n",
    "\n",
    "if output == 0:\n",
    "    print(f\"{number} is an even number\")\n",
    "else:\n",
    "    print(f\"{number} is an odd number\")\n",
    "\n",
    "\n"
   ]
  },
  {
   "cell_type": "code",
   "execution_count": 5,
   "metadata": {},
   "outputs": [
    {
     "name": "stdout",
     "output_type": "stream",
     "text": [
      "Welcome to Python Pizza Deliveries!\n",
      "Your bill is: $18.\n"
     ]
    }
   ],
   "source": [
    "# Pizza Order Practice\n",
    "\n",
    "print(\"Welcome to Python Pizza Deliveries!\")\n",
    "size = input(\"What size of pizza do you want? S, M or L: \")\n",
    "pepperoni = input(\"Do you want pepperoni on your pizza? Y or N: \")\n",
    "extra_cheese = input(\"Do you want extra cheese? Y or N: \")\n",
    "\n",
    "\n",
    "small_pepperoni_price = 2\n",
    "m_l_pepperoni_price = 3\n",
    "extra_cheese_price = 1\n",
    "\n",
    "\n",
    "price = 0\n",
    "\n",
    "if size == \"L\":\n",
    "    price += 25\n",
    "        # print(f\"Your bill is {large_price}\")\n",
    "elif size == \"M\":\n",
    "    price += 20\n",
    "        # print(f\"Your bill is {medium_price}\")\n",
    "elif size == \"S\":\n",
    "        price+=15\n",
    "else:\n",
    "    print(\"Incorrect input. Try Again\")\n",
    "\n",
    "if pepperoni == \"Y\":\n",
    "        if size == \"S\":\n",
    "          price+=2\n",
    "        else:\n",
    "              price+=3\n",
    "        \n",
    "if extra_cheese == \"Y\":\n",
    "        price+=1\n",
    "\n",
    "print(f\"Your bill is: ${price}.\")\n"
   ]
  },
  {
   "cell_type": "code",
   "execution_count": null,
   "metadata": {},
   "outputs": [],
   "source": []
  }
 ],
 "metadata": {
  "kernelspec": {
   "display_name": "Python 3",
   "language": "python",
   "name": "python3"
  },
  "language_info": {
   "codemirror_mode": {
    "name": "ipython",
    "version": 3
   },
   "file_extension": ".py",
   "mimetype": "text/x-python",
   "name": "python",
   "nbconvert_exporter": "python",
   "pygments_lexer": "ipython3",
   "version": "3.10.7"
  }
 },
 "nbformat": 4,
 "nbformat_minor": 2
}
