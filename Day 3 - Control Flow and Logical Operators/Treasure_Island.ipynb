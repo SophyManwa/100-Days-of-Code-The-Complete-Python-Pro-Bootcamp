{
 "cells": [
  {
   "cell_type": "code",
   "execution_count": 2,
   "metadata": {},
   "outputs": [
    {
     "name": "stdout",
     "output_type": "stream",
     "text": [
      "Welcome to Treasure Island.\n",
      "Your mission is to find the treasure.\n",
      "You fell into a hole. \n",
      "Game Over.\n"
     ]
    }
   ],
   "source": [
    "# This is the third project of 100 Days of Code Python Bootcamp\n",
    "# Treasure Island\n",
    "\n",
    "print(\"Welcome to Treasure Island.\\nYour mission is to find the treasure.\")\n",
    "task1 = input('Do you want to go Type \"left\" or \"right\"? ').strip().lower()\n",
    "if task1 == \"left\":\n",
    "    task2 = input(\"Do you want to swim or wait? \").strip().lower()\n",
    "    if task2 == \"swim\":\n",
    "        print(\"You were attacked by trout.\\nGame Over.\")\n",
    "    else:\n",
    "        task3 = input(\"Which door do you want to go through? Red, Yellow, or Blue? \").strip().lower()\n",
    "        if task3 == \"red\":\n",
    "            print(\"You were burned by fire.\\n Game Over.\")\n",
    "        elif task3 == \"yellow\":\n",
    "            print(\"You found the treasure. You Win!\")\n",
    "        elif task3 == \"blue\":\n",
    "            print(\"You were eaten by beasts.\\nGame Over.\")\n",
    "        else:\n",
    "            print(\"Game Over.\")  \n",
    "else:\n",
    "     print(\"You fell into a hole. \\nGame Over.\")           "
   ]
  }
 ],
 "metadata": {
  "kernelspec": {
   "display_name": "Python 3",
   "language": "python",
   "name": "python3"
  },
  "language_info": {
   "codemirror_mode": {
    "name": "ipython",
    "version": 3
   },
   "file_extension": ".py",
   "mimetype": "text/x-python",
   "name": "python",
   "nbconvert_exporter": "python",
   "pygments_lexer": "ipython3",
   "version": "3.10.7"
  }
 },
 "nbformat": 4,
 "nbformat_minor": 2
}
