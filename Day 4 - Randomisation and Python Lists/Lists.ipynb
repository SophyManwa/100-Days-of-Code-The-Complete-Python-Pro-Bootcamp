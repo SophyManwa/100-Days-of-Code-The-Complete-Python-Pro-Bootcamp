{
 "cells": [
  {
   "cell_type": "code",
   "execution_count": 11,
   "metadata": {},
   "outputs": [
    {
     "name": "stdout",
     "output_type": "stream",
     "text": [
      "['Nairobi', 'Nakuru', 'Transzoia', 'Nyamira', 'Mombasa', 'Kisumu', 'Kiambu', 'Lamu']\n"
     ]
    }
   ],
   "source": [
    "#offsetting and appending items to lists\n",
    "\n",
    "counties_of_kenya = [\"Nairobi\", \"Nakuru\",\"Kisii\",\"Nyamira\",\"Mombasa\"]\n",
    "\n",
    "# Alter the list\n",
    "counties_of_kenya[2] = \"Transzoia\"\n",
    "\n",
    "# Append to the list\n",
    "# append\n",
    "counties_of_kenya.append(\"Kisumu\")\n",
    "# extend\n",
    "counties_of_kenya.extend([\"Kiambu\",\"Lamu\"])\n",
    "\n",
    "print(counties_of_kenya)"
   ]
  },
  {
   "cell_type": "code",
   "execution_count": 54,
   "metadata": {},
   "outputs": [
    {
     "name": "stdout",
     "output_type": "stream",
     "text": [
      "Bob\n",
      "Charlie\n"
     ]
    }
   ],
   "source": [
    "# Exercise\n",
    "\n",
    "import random\n",
    "\n",
    "friends = [\"Alice\", \"Bob\",\"Charlie\",\"David\",\"Emanuel\"]\n",
    "\n",
    "# random names\n",
    "# option 1\n",
    "random_names=random.choice(friends)\n",
    "print(random_names)\n",
    "\n",
    "# option 2\n",
    "random_index = random.randint(0,4)\n",
    "print(friends[random_index])"
   ]
  }
 ],
 "metadata": {
  "kernelspec": {
   "display_name": "Python 3",
   "language": "python",
   "name": "python3"
  },
  "language_info": {
   "codemirror_mode": {
    "name": "ipython",
    "version": 3
   },
   "file_extension": ".py",
   "mimetype": "text/x-python",
   "name": "python",
   "nbconvert_exporter": "python",
   "pygments_lexer": "ipython3",
   "version": "3.10.7"
  }
 },
 "nbformat": 4,
 "nbformat_minor": 2
}
