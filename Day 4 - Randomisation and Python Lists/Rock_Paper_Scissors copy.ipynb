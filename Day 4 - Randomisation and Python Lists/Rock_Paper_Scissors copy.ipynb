{
 "cells": [
  {
   "cell_type": "code",
   "execution_count": 24,
   "metadata": {},
   "outputs": [
    {
     "name": "stdout",
     "output_type": "stream",
     "text": [
      "\n",
      "scissors image\n",
      "\n",
      "2\n",
      "Computer chose : \n",
      "\n",
      "scissors image\n",
      "\n",
      "It is a draw\n"
     ]
    }
   ],
   "source": [
    "# This is the forth project in 100 days of code python bootcamp\n",
    "# Rock Paper Scissors\n",
    "\n",
    "import random as rd\n",
    "\n",
    "# rock = '''\n",
    "# rock image\n",
    "# '''\n",
    "\n",
    "# paper = '''\n",
    "# paper image\n",
    "# '''\n",
    "\n",
    "# scissors = '''\n",
    "# scissors image\n",
    "# '''\n",
    "\n",
    "game_images = [rock, paper, scissors]\n",
    "\n",
    "user_choice = int(input('What do you choose? Type \"0\" for Rock  \"1\" for paper, \"2\" for scissors.\\n'))\n",
    "print(game_images[user_choice])\n",
    "\n",
    "computer_choice = rd.randint(0 , 2)\n",
    "\n",
    "print(user_choice)\n",
    "print(\"Computer chose : \")\n",
    "print(game_images[computer_choice])\n",
    "\n",
    "if user_choice >= 3 or user_choice < 0:\n",
    "    print(\"Invalid  you lose!\")\n",
    "elif user_choice == 0 and computer_choice == 2:\n",
    "    print(\"You wins!\")\n",
    "elif computer_choice == 0 and user_choice == 2:\n",
    "    print(\"You lose!\")\n",
    "elif computer_choice > user_choice:\n",
    "    print(\"You lose!\")\n",
    "elif user_choice > computer_choice:\n",
    "    print(\"You win!\")\n",
    "elif user_choice == computer_choice:\n",
    "    print(\"It is a draw\")\n",
    "\n",
    "\n"
   ]
  }
 ],
 "metadata": {
  "kernelspec": {
   "display_name": "Python 3",
   "language": "python",
   "name": "python3"
  },
  "language_info": {
   "codemirror_mode": {
    "name": "ipython",
    "version": 3
   },
   "file_extension": ".py",
   "mimetype": "text/x-python",
   "name": "python",
   "nbconvert_exporter": "python",
   "pygments_lexer": "ipython3",
   "version": "3.10.7"
  }
 },
 "nbformat": 4,
 "nbformat_minor": 2
}
