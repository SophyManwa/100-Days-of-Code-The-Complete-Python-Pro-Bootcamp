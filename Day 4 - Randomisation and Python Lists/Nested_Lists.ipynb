{
 "cells": [
  {
   "cell_type": "code",
   "execution_count": 4,
   "metadata": {},
   "outputs": [
    {
     "name": "stdout",
     "output_type": "stream",
     "text": [
      "Kale\n"
     ]
    }
   ],
   "source": [
    "# Nested Lists - Lists within a list\n",
    "\n",
    "fruits  = [\"Oranges\", \"Bananas\",\"Apples\"]\n",
    "veg = [\"Spinach\", \"Kale\", \"Celery\",\"Lettuce\"]\n",
    "\n",
    "dirty_dozen = [fruits,veg]\n",
    "\n",
    "print(dirty_dozen[1][1])"
   ]
  }
 ],
 "metadata": {
  "kernelspec": {
   "display_name": "Python 3",
   "language": "python",
   "name": "python3"
  },
  "language_info": {
   "codemirror_mode": {
    "name": "ipython",
    "version": 3
   },
   "file_extension": ".py",
   "mimetype": "text/x-python",
   "name": "python",
   "nbconvert_exporter": "python",
   "pygments_lexer": "ipython3",
   "version": "3.10.7"
  }
 },
 "nbformat": 4,
 "nbformat_minor": 2
}
