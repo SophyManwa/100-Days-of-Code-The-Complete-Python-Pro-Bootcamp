{
 "cells": [
  {
   "cell_type": "code",
   "execution_count": 192,
   "metadata": {},
   "outputs": [
    {
     "name": "stdout",
     "output_type": "stream",
     "text": [
      "Welcome to the PyPassword Generator!\n",
      "Your Password is:\n",
      " !^ox#8t5j\n"
     ]
    }
   ],
   "source": [
    "# This is the fifth project in the 100 Days of Code Python Bootcamp\n",
    "# Password Generator\n",
    "\n",
    "\n",
    "    # letters = [chr(i) for i in range(97, 123)]  # a to z\n",
    "    # numbers = [str(i) for i in range(10)]        # 0 to 9\n",
    "    # symbols = ['!', '@', '#', '$', '%', '^', '&', '*', '(', ')']\n",
    "    # print(letters)\n",
    "    # print(numbers)3\n",
    "    # print(symbols)\n",
    "\n",
    "\n",
    "\n",
    "import random as rd\n",
    "\n",
    "letters = ['a', 'b', 'c', 'd', 'e', 'f', 'g', 'h', 'i', 'j', 'k', 'l', 'm', \n",
    "           'n', 'o', 'p', 'q', 'r', 's', 't', 'u', 'v', 'w', 'x', 'y', 'z']\n",
    "\n",
    "numbers = ['0', '1', '2', '3', '4', '5', '6', '7', '8', '9']\n",
    "\n",
    "symbols = ['!', '@', '#', '$', '%', '^', '&', '*', '(', ')']\n",
    "\n",
    "print(\"Welcome to the PyPassword Generator!\")\n",
    "\n",
    "no_letters = int(input(\"How many letters would you like in your password?\\n\"))\n",
    "no_symbols = int(input(f\"How many symbols would you like?\\n\"))\n",
    "no_numbers = int(input(f\"How many numbers would you like?\\n\"))\n",
    "\n",
    "\n",
    "#Easy Level\n",
    "# password = \"\"\n",
    "\n",
    "# for char in range (0, no_letters):\n",
    "#     password = password +  rd.choice(letters)\n",
    "\n",
    "# for char in range (0, no_symbols):\n",
    "#     password = password +  rd.choice(symbols)\n",
    "\n",
    "# for char in range (0, no_numbers):\n",
    "#     password = password +  rd.choice(numbers)\n",
    "\n",
    "# print(password)\n",
    "\n",
    "\n",
    "# Hard Level\n",
    "password_list = []\n",
    "\n",
    "for char in range (0, no_letters):\n",
    "    password_list.append(rd.choice(letters))\n",
    "\n",
    "for char in range (0, no_symbols):\n",
    "    password_list.append(rd.choice(symbols))\n",
    "\n",
    "for char in range (0, no_numbers):\n",
    "    password_list.append(rd.choice(numbers))\n",
    "\n",
    "rd.shuffle(password_list)\n",
    "\n",
    "password = \"\"\n",
    "\n",
    "for char in password_list:\n",
    "    password += char\n",
    "\n",
    "print(f\"Your Password is:\\n {password}\")\n",
    "\n"
   ]
  },
  {
   "cell_type": "code",
   "execution_count": 269,
   "metadata": {},
   "outputs": [
    {
     "name": "stdout",
     "output_type": "stream",
     "text": [
      "Welcome to the PyPassword Generator!\n",
      "Your Password is: \n",
      " jk83nhb^*(7m\n"
     ]
    }
   ],
   "source": [
    "import random as rd\n",
    "\n",
    "letters = ['a', 'b', 'c', 'd', 'e', 'f', 'g', 'h', 'i', 'j', 'k', 'l', 'm', \n",
    "           'n', 'o', 'p', 'q', 'r', 's', 't', 'u', 'v', 'w', 'x', 'y', 'z']\n",
    "\n",
    "numbers = ['0', '1', '2', '3', '4', '5', '6', '7', '8', '9']\n",
    "\n",
    "symbols = ['!', '@', '#', '$', '%', '^', '&', '*', '(', ')']\n",
    "\n",
    "print(\"Welcome to the PyPassword Generator!\")\n",
    "\n",
    "no_letters =  6 #int(input(\"How many letters would you like in your password?\\n\"))\n",
    "no_symbols =  3 # int(input(f\"How many symbols would you like?\\n\"))\n",
    "no_numbers =  3 #int(input(f\"How many numbers would you like?\\n\"))\n",
    "\n",
    "\n",
    "password = []\n",
    "\n",
    "for char in range(0, no_letters):\n",
    "    password.append(rd.choice(letters))\n",
    "\n",
    "for char in range(0, no_symbols):\n",
    "    password.append(rd.choice(symbols))\n",
    "\n",
    "for char in range(0, no_numbers):\n",
    "    password.append(rd.choice(numbers))\n",
    "\n",
    "# Shuffle to ensure randomness\n",
    "rd.shuffle(password)\n",
    "\n",
    "# Join the list into a string\n",
    "password_list = \"\".join(password)\n",
    "\n",
    "# for char in password:\n",
    "#     password_list += char\n",
    "\n",
    "print(f\"Your Password is: \\n {password_list}\")\n"
   ]
  },
  {
   "cell_type": "markdown",
   "metadata": {},
   "source": [
    "### Code to generate password that meet this specific requirements: \n",
    "1. at least 8 characters total\n",
    "2. at least 1 uppercase letter\n",
    "3. 1 symbol\n",
    "4. 1 number\n",
    "5. Mix of lowercase letters"
   ]
  },
  {
   "cell_type": "code",
   "execution_count": 329,
   "metadata": {},
   "outputs": [
    {
     "name": "stdout",
     "output_type": "stream",
     "text": [
      "Welcome to the PyPassword Generator!\n",
      "5rka3f)&UN\n",
      "10\n"
     ]
    }
   ],
   "source": [
    "import random as rd\n",
    "\n",
    "letters = ['a', 'b', 'c', 'd', 'e', 'f', 'g', 'h', 'i', 'j', 'k', 'l', 'm', \n",
    "           'n', 'o', 'p', 'q', 'r', 's', 't', 'u', 'v', 'w', 'x', 'y', 'z']\n",
    "\n",
    "uppercase_letters = [letter.upper()for letter in letters]  # Uppercase letters\n",
    "numbers = ['0', '1', '2', '3', '4', '5', '6', '7', '8', '9']\n",
    "symbols = ['!', '@', '#', '$', '%', '^', '&', '*', '(', ')']\n",
    "\n",
    "print(\"Welcome to the PyPassword Generator!\")\n",
    "\n",
    "password_length = rd.randint(8, 12)\n",
    "\n",
    "# Ensure at least 1 of each of the required character type\n",
    "password = [\n",
    "    rd.choice(uppercase_letters),\n",
    "    rd.choice(symbols),\n",
    "    rd.choice(numbers),\n",
    "    rd.choice(letters)\n",
    "]\n",
    "\n",
    "# Fill the remaining password length with mix of all types\n",
    "for i in range (password_length - 4):\n",
    "    password.append(rd.choice(letters + uppercase_letters + numbers + symbols))\n",
    "\n",
    "# Shuffle the result to ensure randomness\n",
    "rd.shuffle(password)\n",
    "\n",
    "# Join the list into a string\n",
    "password_Generated = ''.join(password)\n",
    "\n",
    "# password_Generated = \"\"\n",
    "# for char in password:\n",
    "#     password_Generated += char\n",
    "\n",
    "print(password_Generated)\n",
    "print(len(password_Generated))"
   ]
  },
  {
   "cell_type": "markdown",
   "metadata": {},
   "source": [
    "### Confirm if the password meets the specified requirements"
   ]
  },
  {
   "cell_type": "code",
   "execution_count": 377,
   "metadata": {},
   "outputs": [
    {
     "name": "stdout",
     "output_type": "stream",
     "text": [
      "Generated Password: wv8ZS@#fmof!\n",
      "The generated password meets the specified requirements.\n"
     ]
    }
   ],
   "source": [
    "import random as rd\n",
    "\n",
    "def generate_password():\n",
    "    letters = ['a', 'b', 'c', 'd', 'e', 'f', 'g', 'h', 'i', 'j', 'k', 'l', 'm', \n",
    "               'n', 'o', 'p', 'q', 'r', 's', 't', 'u', 'v', 'w', 'x', 'y', 'z']\n",
    "    \n",
    "    uppercase_letters = [letter.upper() for letter in letters]  # Uppercase letters\n",
    "    numbers = ['0', '1', '2', '3', '4', '5', '6', '7', '8', '9']\n",
    "    symbols = ['!', '@', '#', '$', '%', '^', '&', '*', '(', ')']\n",
    "\n",
    "    password_length = rd.randint(8,12)\n",
    "\n",
    "    password = [\n",
    "        rd.choice(uppercase_letters),  # At least 1 uppercase letter\n",
    "        rd.choice(symbols),             # At least 1 symbol\n",
    "        rd.choice(numbers),             # At least 1 number\n",
    "        rd.choice(letters)              # At least 1 lowercase letter\n",
    "    ]\n",
    "\n",
    "    for _ in range(password_length - 4):\n",
    "        password.append(rd.choice(letters + uppercase_letters + numbers + symbols))\n",
    "\n",
    "    rd.shuffle(password)\n",
    "\n",
    "    return ''.join(password)\n",
    "\n",
    "def validate_password(password):\n",
    "    if len(password) != 12:\n",
    "        return False\n",
    "    if not any(c.islower() for c in password):\n",
    "        return False\n",
    "    if not any(c.isupper() for c in password):\n",
    "        return False\n",
    "    if not any(c.isdigit() for c in password):\n",
    "        return False\n",
    "    if not any(c in ['!', '@', '#', '$', '%', '^', '&', '*', '(', ')'] for c in password):\n",
    "        return False\n",
    "    return True\n",
    "\n",
    "# Generate a password\n",
    "generated_password = generate_password()\n",
    "print(\"Generated Password:\", generated_password)\n",
    "\n",
    "# Validate the password\n",
    "if validate_password(generated_password):\n",
    "    print(\"The generated password meets the specified requirements.\")\n",
    "else:\n",
    "    print(\"The generated password does NOT meet the specified requirements.\")\n"
   ]
  }
 ],
 "metadata": {
  "kernelspec": {
   "display_name": "Python 3",
   "language": "python",
   "name": "python3"
  },
  "language_info": {
   "codemirror_mode": {
    "name": "ipython",
    "version": 3
   },
   "file_extension": ".py",
   "mimetype": "text/x-python",
   "name": "python",
   "nbconvert_exporter": "python",
   "pygments_lexer": "ipython3",
   "version": "3.10.7"
  }
 },
 "nbformat": 4,
 "nbformat_minor": 2
}
