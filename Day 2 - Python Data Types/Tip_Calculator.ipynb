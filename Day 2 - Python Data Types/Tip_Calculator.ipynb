{
 "cells": [
  {
   "cell_type": "code",
   "execution_count": null,
   "metadata": {},
   "outputs": [],
   "source": [
    "# This is the second project of 100 Days of Code Python Bootcamp\n",
    "# Tip Calculator\n",
    "\n",
    "print(\"Welcome to the tip calculator\")\n",
    "total_bill = float(input(\"What was the total bill? $\"))\n",
    "tip = int(input(\"How much tip would you like to give? 10, 12, 15?\"))\n",
    "people = int(input(\"How many people to split the bill?\"))\n",
    "\n",
    "bill = int(total_bill)\n",
    "tippaid = tip/100 * bill\n",
    "\n",
    "billperperson = (bill + tippaid) / people\n",
    "\n",
    "print(f\"Each person should pay: ${billperperson}\")"
   ]
  }
 ],
 "metadata": {
  "kernelspec": {
   "display_name": "Python 3",
   "language": "python",
   "name": "python3"
  },
  "language_info": {
   "codemirror_mode": {
    "name": "ipython",
    "version": 3
   },
   "file_extension": ".py",
   "mimetype": "text/x-python",
   "name": "python",
   "nbconvert_exporter": "python",
   "pygments_lexer": "ipython3",
   "version": "3.10.7"
  }
 },
 "nbformat": 4,
 "nbformat_minor": 2
}
